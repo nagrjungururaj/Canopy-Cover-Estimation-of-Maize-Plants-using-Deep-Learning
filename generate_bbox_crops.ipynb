{
 "cells": [
  {
   "cell_type": "code",
   "execution_count": 1,
   "metadata": {},
   "outputs": [],
   "source": [
    "import numpy as np\n",
    "import cv2\n",
    "import pandas as pd\n",
    "import glob\n",
    "import os\n",
    "import matplotlib.pyplot as plt"
   ]
  },
  {
   "cell_type": "markdown",
   "metadata": {},
   "source": [
    "# Generate bounding box crop images for ground truth and predicted boxes"
   ]
  },
  {
   "cell_type": "code",
   "execution_count": 7,
   "metadata": {},
   "outputs": [],
   "source": [
    "# load the ground truth labels for train and test separately\n",
    "gt = pd.read_csv(os.path.join('images','train_labels.csv'))\n",
    "gt_test = pd.read_csv(os.path.join('images','test_labels.csv'))\n",
    "df = gt.append(gt_test)"
   ]
  },
  {
   "cell_type": "code",
   "execution_count": 9,
   "metadata": {},
   "outputs": [
    {
     "name": "stdout",
     "output_type": "stream",
     "text": [
      "Writing folder: 1\n",
      "Writing folder: 2\n",
      "Writing folder: 3\n",
      "Writing folder: 4\n",
      "Writing folder: 5\n",
      "Writing folder: 6\n",
      "Writing folder: 7\n",
      "Writing folder: 8\n",
      "Writing folder: 9\n",
      "Writing folder: 10\n",
      "Writing folder: 11\n",
      "Writing folder: 12\n",
      "Writing folder: 13\n",
      "Writing folder: 14\n",
      "Writing folder: 15\n",
      "Writing folder: 16\n",
      "Writing folder: 17\n",
      "Writing folder: 18\n",
      "Writing folder: 19\n",
      "Writing folder: 20\n",
      "Writing folder: 21\n",
      "Writing folder: 22\n",
      "Writing folder: 23\n",
      "Writing folder: 24\n",
      "Writing folder: 25\n",
      "Writing folder: 26\n",
      "Writing folder: 27\n",
      "Writing folder: 28\n",
      "Writing folder: 29\n",
      "Writing folder: 30\n",
      "Writing folder: 31\n",
      "Writing folder: 32\n",
      "Writing folder: 33\n",
      "Writing folder: 34\n",
      "Writing folder: 35\n",
      "Writing folder: 36\n",
      "Writing folder: 37\n",
      "Writing folder: 38\n",
      "Writing folder: 39\n",
      "Writing folder: 40\n",
      "Writing folder: 41\n",
      "Writing folder: 42\n",
      "Writing folder: 43\n",
      "Writing folder: 44\n",
      "Writing folder: 45\n",
      "Writing folder: 46\n"
     ]
    }
   ],
   "source": [
    "# To generate the bbox crops for GT change 'crops/' to 'crops_gt' and comment the 2nd line\n",
    "\n",
    "filenames = os.listdir('test_img')\n",
    "df = pd.read_csv('iou_all_images.csv')\n",
    "\n",
    "path = glob.glob(\"test_img/*.jpg\")\n",
    "cv_img = []\n",
    "for img in path:\n",
    "    n = cv2.imread(img)\n",
    "    cv_img.append(n)\n",
    "    \n",
    "\n",
    "path1 = 'test_img' \n",
    "files = [os.path.splitext(filename)[0] for filename in os.listdir(path1)]\n",
    "    \n",
    "for i in range(len(filenames)):\n",
    "    \n",
    "    os.makedirs('crops/' + str(files[i]))\n",
    "    image = cv_img[i]\n",
    "    d2 = df[df['filename'] == filenames[i]]\n",
    "    d3 = d2[['xmin','ymin','xmax','ymax']].values\n",
    "    save_path = os.path.join('crops/',files[i], '')\n",
    "    \n",
    "    for j in range(len(d3)):\n",
    "        \n",
    "        [xmin, ymin, xmax, ymax] = d3[j]\n",
    "        w = xmax-xmin\n",
    "        h = ymax-ymin\n",
    "        \n",
    "        roi = image[ymin:ymin+h,xmin:xmin+w]\n",
    "        \n",
    "        cv2.imwrite(save_path + str(files[i]) + '_' + 'box' + str(j) + '.jpg', roi)\n",
    "    print('Writing folder:',i+1)"
   ]
  }
 ],
 "metadata": {
  "kernelspec": {
   "display_name": "Python 3",
   "language": "python",
   "name": "python3"
  },
  "language_info": {
   "codemirror_mode": {
    "name": "ipython",
    "version": 3
   },
   "file_extension": ".py",
   "mimetype": "text/x-python",
   "name": "python",
   "nbconvert_exporter": "python",
   "pygments_lexer": "ipython3",
   "version": "3.6.2"
  }
 },
 "nbformat": 4,
 "nbformat_minor": 2
}
