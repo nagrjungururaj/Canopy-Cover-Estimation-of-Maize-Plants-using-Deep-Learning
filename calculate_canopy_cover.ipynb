{
 "cells": [
  {
   "cell_type": "code",
   "execution_count": 1,
   "metadata": {},
   "outputs": [],
   "source": [
    "import numpy as np\n",
    "import cv2\n",
    "import pandas as pd\n",
    "import glob\n",
    "import os\n",
    "import matplotlib.pyplot as plt"
   ]
  },
  {
   "cell_type": "markdown",
   "metadata": {},
   "source": [
    "# 1. Read the images and cropped images and generate the excess green. \n",
    "# 2. Calculate the areas of cropped and whole images"
   ]
  },
  {
   "cell_type": "code",
   "execution_count": 4,
   "metadata": {},
   "outputs": [],
   "source": [
    "# for calculating the canopy cover of GT images replace 'crops' by 'crops_gt' and 'canopy.csv' to 'canopy_gt.csv'\n",
    "\n",
    "path = glob.glob(\"test_img/*.jpg\")\n",
    "filenames = os.listdir('test_img')\n",
    "\n",
    "path1 = 'test_img' \n",
    "files = [os.path.splitext(filename)[0] for filename in os.listdir(path1)]\n",
    "\n",
    "thresh = 127\n",
    "cv_img = []\n",
    "total_area = []\n",
    "\n",
    "for img in path:\n",
    "    \n",
    "    I = cv2.imread(img)\n",
    "    # get channels\n",
    "    B, G, R = cv2.split(I)\n",
    "    \n",
    "    # calculate exgreen\n",
    "    exgr = abs(2.8 * G - R - B)\n",
    "    \n",
    "    #convert to binary image\n",
    "    thresh = 127\n",
    "    im_bw = cv2.threshold(exgr, thresh, 255, cv2.THRESH_BINARY)[1]\n",
    "    \n",
    "    # extract fine maize part of the image\n",
    "    im_bw[im_bw == 255] = 1.0\n",
    "    m1 = np.multiply(I[:,:,1],im_bw)\n",
    "    m2 = np.multiply(I[:,:,2],im_bw)\n",
    "    m3 = np.multiply(I[:,:,0],im_bw)\n",
    "\n",
    "    m = np.stack((m1,m2,m3),axis=2)\n",
    "    \n",
    "    #calculate the area as no. of non zero pixels\n",
    "    total_area.append(np.count_nonzero(I))\n",
    "\n",
    "df = []\n",
    "for i in range(len(filenames)):\n",
    "    \n",
    "    path2 = glob.glob(os.path.join('crops',files[i], '*.jpg'))\n",
    "    \n",
    "    for im in path2:\n",
    "        \n",
    "        J = cv2.imread(im)\n",
    "        B, G, R = cv2.split(J)\n",
    "\n",
    "        # calculate exgreen\n",
    "        exgr = abs(2.8 * G - R - B)\n",
    "        \n",
    "        #convert to binary image\n",
    "        thresh = 127\n",
    "        im_bw = cv2.threshold(exgr, thresh, 255, cv2.THRESH_BINARY)[1]\n",
    "        \n",
    "        # extract fine maize part of the cropped image\n",
    "        im_bw[im_bw == 255] = 1.0\n",
    "        \n",
    "        m1 = np.multiply(J[:,:,1],im_bw)\n",
    "        m2 = np.multiply(J[:,:,2],im_bw)\n",
    "        m3 = np.multiply(J[:,:,0],im_bw)\n",
    "\n",
    "        m = np.stack((m1,m2,m3),axis=2)\n",
    "        \n",
    "        #calculate the area as no. of non zero pixels\n",
    "        area = np.count_nonzero(m)\n",
    "        \n",
    "        df.append((filenames[i],area,total_area[i]))\n",
    "        \n",
    "p = pd.DataFrame(df, columns =('filename','local_area','global_area'))"
   ]
  },
  {
   "cell_type": "markdown",
   "metadata": {},
   "source": [
    "# Canopy Cover calculation"
   ]
  },
  {
   "cell_type": "code",
   "execution_count": null,
   "metadata": {},
   "outputs": [],
   "source": [
    "canopy = []\n",
    "final_canopy = []\n",
    "\n",
    "#calculate canopy cover\n",
    "\n",
    "for i in range(len(filenames)):\n",
    "    \n",
    "    s1 = p[p['filename'] == filenames[i]]\n",
    "    \n",
    "    a1 = (abs(s1['local_area'])) / s1['global_area']\n",
    "\n",
    "    val = np.sum(a1)\n",
    "    \n",
    "    canopy.append((filenames[i], val))\n",
    "    \n",
    "q = pd.DataFrame(canopy, columns=('filename', 'canopy_cover_percent'))\n",
    "q.to_csv('canopy.csv', index= False)"
   ]
  }
 ],
 "metadata": {
  "kernelspec": {
   "display_name": "Python 3",
   "language": "python",
   "name": "python3"
  },
  "language_info": {
   "codemirror_mode": {
    "name": "ipython",
    "version": 3
   },
   "file_extension": ".py",
   "mimetype": "text/x-python",
   "name": "python",
   "nbconvert_exporter": "python",
   "pygments_lexer": "ipython3",
   "version": "3.6.2"
  }
 },
 "nbformat": 4,
 "nbformat_minor": 2
}
