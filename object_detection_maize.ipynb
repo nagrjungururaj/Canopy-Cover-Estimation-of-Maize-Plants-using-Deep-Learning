{
 "cells": [
  {
   "cell_type": "markdown",
   "metadata": {},
   "source": [
    "# Import Packages"
   ]
  },
  {
   "cell_type": "code",
   "execution_count": 1,
   "metadata": {},
   "outputs": [],
   "source": [
    "import os\n",
    "import cv2\n",
    "import numpy as np\n",
    "import tensorflow as tf\n",
    "import sys\n",
    "import pandas as pd"
   ]
  },
  {
   "cell_type": "markdown",
   "metadata": {},
   "source": [
    "# This is needed since the notebook is stored in the object_detection folder."
   ]
  },
  {
   "cell_type": "code",
   "execution_count": 2,
   "metadata": {},
   "outputs": [],
   "source": [
    "sys.path.append(\"..\")"
   ]
  },
  {
   "cell_type": "markdown",
   "metadata": {},
   "source": [
    "# Import utilites"
   ]
  },
  {
   "cell_type": "code",
   "execution_count": 4,
   "metadata": {},
   "outputs": [],
   "source": [
    "from utils import label_map_util\n",
    "from utils import visualization_utils as vis_util"
   ]
  },
  {
   "cell_type": "markdown",
   "metadata": {},
   "source": [
    "# Name of the directory containing the object detection module we're using"
   ]
  },
  {
   "cell_type": "code",
   "execution_count": 5,
   "metadata": {},
   "outputs": [],
   "source": [
    "FOLDER = 'test_img'\n",
    "OUT = 'out_img'"
   ]
  },
  {
   "cell_type": "markdown",
   "metadata": {},
   "source": [
    "# Load images + test images on frozen model + visualize bounding box predictions on test images"
   ]
  },
  {
   "cell_type": "code",
   "execution_count": 7,
   "metadata": {},
   "outputs": [],
   "source": [
    "pred = []\n",
    "for filename in  os.listdir(FOLDER):\n",
    "\n",
    "    MODEL_NAME = 'inference_graph'\n",
    "    IMAGE_NAME = filename\n",
    "\n",
    "    # Grab path to current working directory\n",
    "    CWD_PATH = os.getcwd()\n",
    "\n",
    "    # Path to frozen detection graph .pb file, which contains the model that is used\n",
    "    # for object detection.\n",
    "    PATH_TO_CKPT = os.path.join(CWD_PATH,MODEL_NAME,'frozen_inference_graph.pb')\n",
    "\n",
    "    # Path to label map file\n",
    "    PATH_TO_LABELS = os.path.join(CWD_PATH,'training','labelmap.pbtxt')\n",
    "\n",
    "    # Path to image\n",
    "    PATH_TO_IMAGE = os.path.join(CWD_PATH, FOLDER, IMAGE_NAME)\n",
    "\n",
    "    # Number of classes the object detector can identify maize and weed\n",
    "    NUM_CLASSES = 2\n",
    "\n",
    "    # Load the label map.\n",
    "    # Label maps map indices to category names, so that when our convolution\n",
    "    # network predicts `5`, we know that this corresponds to `king`.\n",
    "    # Here we use internal utility functions, but anything that returns a\n",
    "    # dictionary mapping integers to appropriate string labels would be fine\n",
    "    label_map = label_map_util.load_labelmap(PATH_TO_LABELS)\n",
    "    categories = label_map_util.convert_label_map_to_categories(label_map, max_num_classes=NUM_CLASSES, use_display_name=True)\n",
    "    category_index = label_map_util.create_category_index(categories)\n",
    "\n",
    "    # Load the Tensorflow model into memory.\n",
    "    detection_graph = tf.Graph()\n",
    "    with detection_graph.as_default():\n",
    "        od_graph_def = tf.GraphDef()\n",
    "        with tf.gfile.GFile(PATH_TO_CKPT, 'rb') as fid:\n",
    "            serialized_graph = fid.read()\n",
    "            od_graph_def.ParseFromString(serialized_graph)\n",
    "            tf.import_graph_def(od_graph_def, name='')\n",
    "\n",
    "        sess = tf.Session(graph=detection_graph)\n",
    "\n",
    "    # Define input and output tensors (i.e. data) for the object detection classifier\n",
    "\n",
    "    # Input tensor is the image\n",
    "    image_tensor = detection_graph.get_tensor_by_name('image_tensor:0')\n",
    "\n",
    "    # Output tensors are the detection boxes, scores, and classes\n",
    "    # Each box represents a part of the image where a particular object was detected\n",
    "    detection_boxes = detection_graph.get_tensor_by_name('detection_boxes:0')\n",
    "\n",
    "    # Each score represents level of confidence for each of the objects.\n",
    "    # The score is shown on the result image, together with the class label.\n",
    "    detection_scores = detection_graph.get_tensor_by_name('detection_scores:0')\n",
    "    detection_classes = detection_graph.get_tensor_by_name('detection_classes:0')\n",
    "\n",
    "    # Number of objects detected\n",
    "    num_detections = detection_graph.get_tensor_by_name('num_detections:0')\n",
    "\n",
    "    # Load image using OpenCV and\n",
    "    # expand image dimensions to have shape: [1, None, None, 3]\n",
    "    # i.e. a single-column array, where each item in the column has the pixel RGB value\n",
    "    image = cv2.imread(PATH_TO_IMAGE)\n",
    "    im_height, im_width, channels = image.shape\n",
    "    #print(im_height, im_width, channels)\n",
    "    image_expanded = np.expand_dims(image, axis=0)\n",
    "\n",
    "    # Perform the actual detection by running the model with the image as input\n",
    "    (boxes, scores, classes, num) = sess.run(\n",
    "        [detection_boxes, detection_scores, detection_classes, num_detections],\n",
    "        feed_dict={image_tensor: image_expanded})\n",
    "\n",
    "    # Draw the results of the detection (aka 'visulaize the results')\n",
    "\n",
    "    vis_util.visualize_boxes_and_labels_on_image_array(\n",
    "        image,\n",
    "        np.squeeze(boxes),\n",
    "        np.squeeze(classes).astype(np.int32),\n",
    "        np.squeeze(scores),\n",
    "        category_index,\n",
    "        use_normalized_coordinates=True,\n",
    "        line_thickness=5,\n",
    "        min_score_thresh=0.60)\n",
    "\n",
    "    min_score_thresh = 0.6\n",
    "    \n",
    "    score = scores[0]\n",
    "    \n",
    "    true_boxes = boxes[0][scores[0] > min_score_thresh]\n",
    "    \n",
    "    #generate predicted class names\n",
    "    objects = []\n",
    "    for index, value in enumerate(classes[0]):\n",
    "        object_dict = {}\n",
    "        if scores[0, index] > min_score_thresh:\n",
    "            object_dict[(category_index.get(value)).get('name')] = \\\n",
    "                        scores[0, index]\n",
    "            object_dict = next(iter(object_dict))\n",
    "            objects.append(object_dict)\n",
    "    \n",
    "\n",
    "    #cv2.imshow('Object detector', image)\n",
    "    #cv2.waitKey()\n",
    "    #cv2.destroyAllWindows()\n",
    "    \n",
    "    # All the results have been drawn on image. Now write the image to the disk\n",
    "    cv2.imwrite(os.path.join(CWD_PATH, OUT, IMAGE_NAME), image)\n",
    "    \n",
    "    #save prediction classes and predicted bounding boxes as dataframe to .csv format\n",
    "    for i in range(true_boxes.shape[0]):\n",
    "        \n",
    "        ymin = true_boxes[i,0]*im_height\n",
    "        xmin = true_boxes[i,1]*im_width\n",
    "        ymax = true_boxes[i,2]*im_height\n",
    "        xmax = true_boxes[i,3]*im_width\n",
    "\n",
    "        pred.append((filename, im_width, im_height, objects[i], int(xmin), int(ymin), int(xmax), int(ymax)))\n",
    "        \n",
    "e = pd.DataFrame(pred, columns=('filename','width','height','class','xmin','ymin','xmax','ymax'))\n",
    "e.to_csv('preds.csv',index=False)"
   ]
  }
 ],
 "metadata": {
  "kernelspec": {
   "display_name": "Python 3",
   "language": "python",
   "name": "python3"
  },
  "language_info": {
   "codemirror_mode": {
    "name": "ipython",
    "version": 3
   },
   "file_extension": ".py",
   "mimetype": "text/x-python",
   "name": "python",
   "nbconvert_exporter": "python",
   "pygments_lexer": "ipython3",
   "version": "3.6.2"
  }
 },
 "nbformat": 4,
 "nbformat_minor": 2
}
